{
  "nbformat": 4,
  "nbformat_minor": 0,
  "metadata": {
    "colab": {
      "name": "Time_series_analysis.ipynb",
      "provenance": [],
      "collapsed_sections": [],
      "include_colab_link": true
    },
    "kernelspec": {
      "name": "python3",
      "display_name": "Python 3"
    }
  },
  "cells": [
    {
      "cell_type": "markdown",
      "metadata": {
        "id": "view-in-github",
        "colab_type": "text"
      },
      "source": [
        "<a href=\"https://colab.research.google.com/github/nikilstark/TerraBlue-XT/blob/master/Time_series_analysis.ipynb\" target=\"_parent\"><img src=\"https://colab.research.google.com/assets/colab-badge.svg\" alt=\"Open In Colab\"/></a>"
      ]
    },
    {
      "cell_type": "code",
      "metadata": {
        "id": "7dOdbBC0DBXT",
        "colab_type": "code",
        "outputId": "417a081a-08da-4586-fc29-31f026ef5c1c",
        "colab": {
          "base_uri": "https://localhost:8080/",
          "height": 34
        }
      },
      "source": [
        "from google.colab import drive\n",
        "drive.mount('/content/drive')"
      ],
      "execution_count": 0,
      "outputs": [
        {
          "output_type": "stream",
          "text": [
            "Drive already mounted at /content/drive; to attempt to forcibly remount, call drive.mount(\"/content/drive\", force_remount=True).\n"
          ],
          "name": "stdout"
        }
      ]
    },
    {
      "cell_type": "code",
      "metadata": {
        "id": "9NBsJvn-SdJU",
        "colab_type": "code",
        "colab": {}
      },
      "source": [
        "import warnings\n",
        "warnings.filterwarnings(\"ignore\")"
      ],
      "execution_count": 0,
      "outputs": []
    },
    {
      "cell_type": "code",
      "metadata": {
        "id": "_fgRbdCWB-li",
        "colab_type": "code",
        "colab": {}
      },
      "source": [
        "import pandas as pd\n",
        "import numpy as np\n",
        "import matplotlib.pyplot as plt\n",
        "%matplotlib inline"
      ],
      "execution_count": 0,
      "outputs": []
    },
    {
      "cell_type": "code",
      "metadata": {
        "id": "9Uufjt5dCPS9",
        "colab_type": "code",
        "outputId": "c15a9960-f411-4bbe-dbf6-612a9dbac073",
        "colab": {
          "base_uri": "https://localhost:8080/",
          "height": 201
        }
      },
      "source": [
        "df = pd.read_csv('/content/drive/My Drive/Timeseries/train_csv.csv',squeeze=True)\n",
        "df.head()"
      ],
      "execution_count": 0,
      "outputs": [
        {
          "output_type": "execute_result",
          "data": {
            "text/html": [
              "<div>\n",
              "<style scoped>\n",
              "    .dataframe tbody tr th:only-of-type {\n",
              "        vertical-align: middle;\n",
              "    }\n",
              "\n",
              "    .dataframe tbody tr th {\n",
              "        vertical-align: top;\n",
              "    }\n",
              "\n",
              "    .dataframe thead th {\n",
              "        text-align: right;\n",
              "    }\n",
              "</style>\n",
              "<table border=\"1\" class=\"dataframe\">\n",
              "  <thead>\n",
              "    <tr style=\"text-align: right;\">\n",
              "      <th></th>\n",
              "      <th>id</th>\n",
              "      <th>time</th>\n",
              "      <th>feature</th>\n",
              "    </tr>\n",
              "  </thead>\n",
              "  <tbody>\n",
              "    <tr>\n",
              "      <th>0</th>\n",
              "      <td>0</td>\n",
              "      <td>2019-03-19 00:00:00</td>\n",
              "      <td>237.97</td>\n",
              "    </tr>\n",
              "    <tr>\n",
              "      <th>1</th>\n",
              "      <td>1</td>\n",
              "      <td>2019-03-19 00:00:10</td>\n",
              "      <td>57.93</td>\n",
              "    </tr>\n",
              "    <tr>\n",
              "      <th>2</th>\n",
              "      <td>2</td>\n",
              "      <td>2019-03-19 00:00:20</td>\n",
              "      <td>90.53</td>\n",
              "    </tr>\n",
              "    <tr>\n",
              "      <th>3</th>\n",
              "      <td>3</td>\n",
              "      <td>2019-03-19 00:00:30</td>\n",
              "      <td>260.75</td>\n",
              "    </tr>\n",
              "    <tr>\n",
              "      <th>4</th>\n",
              "      <td>4</td>\n",
              "      <td>2019-03-19 00:00:40</td>\n",
              "      <td>49.70</td>\n",
              "    </tr>\n",
              "  </tbody>\n",
              "</table>\n",
              "</div>"
            ],
            "text/plain": [
              "   id                 time  feature\n",
              "0   0  2019-03-19 00:00:00   237.97\n",
              "1   1  2019-03-19 00:00:10    57.93\n",
              "2   2  2019-03-19 00:00:20    90.53\n",
              "3   3  2019-03-19 00:00:30   260.75\n",
              "4   4  2019-03-19 00:00:40    49.70"
            ]
          },
          "metadata": {
            "tags": []
          },
          "execution_count": 4
        }
      ]
    },
    {
      "cell_type": "code",
      "metadata": {
        "id": "88X6V7nWCmRS",
        "colab_type": "code",
        "outputId": "dae10bf9-a89c-4704-90c2-e217712d55ea",
        "colab": {
          "base_uri": "https://localhost:8080/",
          "height": 201
        }
      },
      "source": [
        "df.tail()"
      ],
      "execution_count": 0,
      "outputs": [
        {
          "output_type": "execute_result",
          "data": {
            "text/html": [
              "<div>\n",
              "<style scoped>\n",
              "    .dataframe tbody tr th:only-of-type {\n",
              "        vertical-align: middle;\n",
              "    }\n",
              "\n",
              "    .dataframe tbody tr th {\n",
              "        vertical-align: top;\n",
              "    }\n",
              "\n",
              "    .dataframe thead th {\n",
              "        text-align: right;\n",
              "    }\n",
              "</style>\n",
              "<table border=\"1\" class=\"dataframe\">\n",
              "  <thead>\n",
              "    <tr style=\"text-align: right;\">\n",
              "      <th></th>\n",
              "      <th>id</th>\n",
              "      <th>time</th>\n",
              "      <th>feature</th>\n",
              "    </tr>\n",
              "  </thead>\n",
              "  <tbody>\n",
              "    <tr>\n",
              "      <th>75</th>\n",
              "      <td>75</td>\n",
              "      <td>2019-03-19 00:12:30</td>\n",
              "      <td>469.72</td>\n",
              "    </tr>\n",
              "    <tr>\n",
              "      <th>76</th>\n",
              "      <td>76</td>\n",
              "      <td>2019-03-19 00:12:40</td>\n",
              "      <td>406.79</td>\n",
              "    </tr>\n",
              "    <tr>\n",
              "      <th>77</th>\n",
              "      <td>77</td>\n",
              "      <td>2019-03-19 00:12:50</td>\n",
              "      <td>128.91</td>\n",
              "    </tr>\n",
              "    <tr>\n",
              "      <th>78</th>\n",
              "      <td>78</td>\n",
              "      <td>2019-03-19 00:13:00</td>\n",
              "      <td>85.28</td>\n",
              "    </tr>\n",
              "    <tr>\n",
              "      <th>79</th>\n",
              "      <td>79</td>\n",
              "      <td>2019-03-19 00:13:10</td>\n",
              "      <td>121.12</td>\n",
              "    </tr>\n",
              "  </tbody>\n",
              "</table>\n",
              "</div>"
            ],
            "text/plain": [
              "    id                 time  feature\n",
              "75  75  2019-03-19 00:12:30   469.72\n",
              "76  76  2019-03-19 00:12:40   406.79\n",
              "77  77  2019-03-19 00:12:50   128.91\n",
              "78  78  2019-03-19 00:13:00    85.28\n",
              "79  79  2019-03-19 00:13:10   121.12"
            ]
          },
          "metadata": {
            "tags": []
          },
          "execution_count": 5
        }
      ]
    },
    {
      "cell_type": "code",
      "metadata": {
        "id": "qIPA7WcaD_Zd",
        "colab_type": "code",
        "outputId": "4ae64023-e339-4201-8dcf-8bd15d7aaa48",
        "colab": {
          "base_uri": "https://localhost:8080/",
          "height": 186
        }
      },
      "source": [
        "df['time'] =pd.to_datetime(df['time'])\n",
        "df.info()"
      ],
      "execution_count": 0,
      "outputs": [
        {
          "output_type": "stream",
          "text": [
            "<class 'pandas.core.frame.DataFrame'>\n",
            "RangeIndex: 80 entries, 0 to 79\n",
            "Data columns (total 3 columns):\n",
            " #   Column   Non-Null Count  Dtype         \n",
            "---  ------   --------------  -----         \n",
            " 0   id       80 non-null     int64         \n",
            " 1   time     80 non-null     datetime64[ns]\n",
            " 2   feature  80 non-null     float64       \n",
            "dtypes: datetime64[ns](1), float64(1), int64(1)\n",
            "memory usage: 2.0 KB\n"
          ],
          "name": "stdout"
        }
      ]
    },
    {
      "cell_type": "code",
      "metadata": {
        "id": "Vfmra87x9_y6",
        "colab_type": "code",
        "outputId": "e4081c80-90a3-4d2f-b7e2-534bff7a06fe",
        "colab": {
          "base_uri": "https://localhost:8080/",
          "height": 201
        }
      },
      "source": [
        "ts_df = df.drop(['id'],axis=1)\n",
        "ts_df.head()"
      ],
      "execution_count": 0,
      "outputs": [
        {
          "output_type": "execute_result",
          "data": {
            "text/html": [
              "<div>\n",
              "<style scoped>\n",
              "    .dataframe tbody tr th:only-of-type {\n",
              "        vertical-align: middle;\n",
              "    }\n",
              "\n",
              "    .dataframe tbody tr th {\n",
              "        vertical-align: top;\n",
              "    }\n",
              "\n",
              "    .dataframe thead th {\n",
              "        text-align: right;\n",
              "    }\n",
              "</style>\n",
              "<table border=\"1\" class=\"dataframe\">\n",
              "  <thead>\n",
              "    <tr style=\"text-align: right;\">\n",
              "      <th></th>\n",
              "      <th>time</th>\n",
              "      <th>feature</th>\n",
              "    </tr>\n",
              "  </thead>\n",
              "  <tbody>\n",
              "    <tr>\n",
              "      <th>0</th>\n",
              "      <td>2019-03-19 00:00:00</td>\n",
              "      <td>237.97</td>\n",
              "    </tr>\n",
              "    <tr>\n",
              "      <th>1</th>\n",
              "      <td>2019-03-19 00:00:10</td>\n",
              "      <td>57.93</td>\n",
              "    </tr>\n",
              "    <tr>\n",
              "      <th>2</th>\n",
              "      <td>2019-03-19 00:00:20</td>\n",
              "      <td>90.53</td>\n",
              "    </tr>\n",
              "    <tr>\n",
              "      <th>3</th>\n",
              "      <td>2019-03-19 00:00:30</td>\n",
              "      <td>260.75</td>\n",
              "    </tr>\n",
              "    <tr>\n",
              "      <th>4</th>\n",
              "      <td>2019-03-19 00:00:40</td>\n",
              "      <td>49.70</td>\n",
              "    </tr>\n",
              "  </tbody>\n",
              "</table>\n",
              "</div>"
            ],
            "text/plain": [
              "                 time  feature\n",
              "0 2019-03-19 00:00:00   237.97\n",
              "1 2019-03-19 00:00:10    57.93\n",
              "2 2019-03-19 00:00:20    90.53\n",
              "3 2019-03-19 00:00:30   260.75\n",
              "4 2019-03-19 00:00:40    49.70"
            ]
          },
          "metadata": {
            "tags": []
          },
          "execution_count": 7
        }
      ]
    },
    {
      "cell_type": "code",
      "metadata": {
        "id": "D3Ot-7pDDxNN",
        "colab_type": "code",
        "outputId": "24f0a66e-c4b5-4241-969b-0da6d515625f",
        "colab": {
          "base_uri": "https://localhost:8080/",
          "height": 308
        }
      },
      "source": [
        "ts_df.set_index('time',inplace=True)\n",
        "ts_df.plot()"
      ],
      "execution_count": 0,
      "outputs": [
        {
          "output_type": "execute_result",
          "data": {
            "text/plain": [
              "<matplotlib.axes._subplots.AxesSubplot at 0x7fc5742cd668>"
            ]
          },
          "metadata": {
            "tags": []
          },
          "execution_count": 8
        },
        {
          "output_type": "display_data",
          "data": {
            "image/png": "[encoded data removed]",
            "text/plain": [
              "<Figure size 432x288 with 1 Axes>"
            ]
          },
          "metadata": {
            "tags": [],
            "needs_background": "light"
          }
        }
      ]
    },
    {
      "cell_type": "code",
      "metadata": {
        "id": "mi8KARZCe9fj",
        "colab_type": "code",
        "outputId": "3908aefb-ebb5-4f02-c26d-6ec2268438aa",
        "colab": {
          "base_uri": "https://localhost:8080/",
          "height": 308
        }
      },
      "source": [
        "ts_df_mean = ts_df['feature'].rolling(window=10).mean()\n",
        "ts_df_mean.plot()"
      ],
      "execution_count": 0,
      "outputs": [
        {
          "output_type": "execute_result",
          "data": {
            "text/plain": [
              "<matplotlib.axes._subplots.AxesSubplot at 0x7fc572f9e6d8>"
            ]
          },
          "metadata": {
            "tags": []
          },
          "execution_count": 9
        },
        {
          "output_type": "display_data",
          "data": {
            "image/png": "[encoded data removed]",
            "text/plain": [
              "<Figure size 432x288 with 1 Axes>"
            ]
          },
          "metadata": {
            "tags": [],
            "needs_background": "light"
          }
        }
      ]
    },
    {
      "cell_type": "markdown",
      "metadata": {
        "id": "0vya1yZeCtrB",
        "colab_type": "text"
      },
      "source": [
        "### Augmented Dickey-Fuller test"
      ]
    },
    {
      "cell_type": "code",
      "metadata": {
        "id": "yXSPrmXH-Sfu",
        "colab_type": "code",
        "colab": {}
      },
      "source": [
        "from statsmodels.tsa.stattools import adfuller"
      ],
      "execution_count": 0,
      "outputs": []
    },
    {
      "cell_type": "code",
      "metadata": {
        "id": "7Hxkq_zzBtlQ",
        "colab_type": "code",
        "colab": {}
      },
      "source": [
        "# H0: failed to reject null hypothesis(Not stationary)\n",
        "# H1: Accepting alternate hypothesis(Stationary)\n",
        "\n",
        "def adfuller_test(column):\n",
        "  results = adfuller(column)\n",
        "  labels= ['ADF test stats','p-value','lags used','no of obs used','critical','AIC']\n",
        "  for value,label in zip(results,labels):\n",
        "    print(label+':'+str(value))\n",
        "  for key, value in results[4].items():\n",
        "\t  print('\\t%s: %.3f' % (key, value))\n",
        "  if results[1] <= 0.05:\n",
        "      print(\"strong evidence against the null hypothesis(Ho), reject the null hypothesis. Data has no unit root and is stationary\")\n",
        "  else:\n",
        "      print(\"weak evidence against null hypothesis, time series has a unit root, indicating it is non-stationary \")"
      ],
      "execution_count": 0,
      "outputs": []
    },
    {
      "cell_type": "code",
      "metadata": {
        "id": "WKWq8x5IIsoz",
        "colab_type": "code",
        "outputId": "bbc8e50c-3b0a-4b12-b419-810839c8d99c",
        "colab": {
          "base_uri": "https://localhost:8080/",
          "height": 186
        }
      },
      "source": [
        "adfuller_test(ts_df['feature'])"
      ],
      "execution_count": 0,
      "outputs": [
        {
          "output_type": "stream",
          "text": [
            "ADF test stats:-5.945866499650216\n",
            "p-value:2.205049473411699e-07\n",
            "lags used:0\n",
            "no of obs used:79\n",
            "critical:{'1%': -3.5159766913976376, '5%': -2.898885703483903, '10%': -2.5866935058484217}\n",
            "AIC:786.8263144737514\n",
            "\t1%: -3.516\n",
            "\t5%: -2.899\n",
            "\t10%: -2.587\n",
            "strong evidence against the null hypothesis(Ho), reject the null hypothesis. Data has no unit root and is stationary\n"
          ],
          "name": "stdout"
        }
      ]
    },
    {
      "cell_type": "markdown",
      "metadata": {
        "id": "F5Hvym88RiTe",
        "colab_type": "text"
      },
      "source": [
        "### Data is stationary. No need for lags"
      ]
    },
    {
      "cell_type": "markdown",
      "metadata": {
        "id": "TB-cFuDmSbiM",
        "colab_type": "text"
      },
      "source": [
        "# Auto Regressive model"
      ]
    },
    {
      "cell_type": "code",
      "metadata": {
        "id": "foWme6ACSzt9",
        "colab_type": "code",
        "colab": {}
      },
      "source": [
        "from statsmodels.graphics.tsaplots import plot_acf,plot_pacf"
      ],
      "execution_count": 0,
      "outputs": []
    },
    {
      "cell_type": "code",
      "metadata": {
        "id": "-IZkfC6fIvpQ",
        "colab_type": "code",
        "outputId": "7accca38-b839-4dfe-a61b-1c3c3c5617d3",
        "colab": {
          "base_uri": "https://localhost:8080/",
          "height": 499
        }
      },
      "source": [
        "# plot_acf,plot_Pacf\n",
        "\n",
        "fig = plt.figure(figsize=(12,8))\n",
        "ax1= fig.add_subplot(211)\n",
        "fig = plot_acf(ts_df['feature'],ax=ax1,lags=20)\n",
        "ax2 = fig.add_subplot(212)\n",
        "fig = plot_pacf(ts_df['feature'],ax= ax2,lags=20)"
      ],
      "execution_count": 0,
      "outputs": [
        {
          "output_type": "display_data",
          "data": {
            "image/png": "[encoded data removed]",
            "text/plain": [
              "<Figure size 864x576 with 2 Axes>"
            ]
          },
          "metadata": {
            "tags": [],
            "needs_background": "light"
          }
        }
      ]
    },
    {
      "cell_type": "code",
      "metadata": {
        "id": "9vBR5IczUY9Q",
        "colab_type": "code",
        "colab": {}
      },
      "source": [
        "from statsmodels.tsa.arima_model import ARIMA"
      ],
      "execution_count": 0,
      "outputs": []
    },
    {
      "cell_type": "code",
      "metadata": {
        "id": "3LLw4BNiTyK8",
        "colab_type": "code",
        "outputId": "2bf23032-ba2e-46df-ef6e-79d268c064b5",
        "colab": {
          "base_uri": "https://localhost:8080/",
          "height": 51
        }
      },
      "source": [
        "# p =0(or)1,d=0,q=10\n",
        "\n",
        "model= ARIMA(ts_df['feature'],order=(0,0,10))\n",
        "model= model.fit()"
      ],
      "execution_count": 0,
      "outputs": [
        {
          "output_type": "stream",
          "text": [
            "/usr/local/lib/python3.6/dist-packages/statsmodels/tsa/base/tsa_model.py:165: ValueWarning: No frequency information was provided, so inferred frequency 10S will be used.\n",
            "  % freq, ValueWarning)\n"
          ],
          "name": "stderr"
        }
      ]
    },
    {
      "cell_type": "code",
      "metadata": {
        "id": "H1e1ruL3VC3h",
        "colab_type": "code",
        "outputId": "57e7c56e-d9ec-49b9-a6bc-30f291e92c21",
        "colab": {
          "base_uri": "https://localhost:8080/",
          "height": 665
        }
      },
      "source": [
        "model.summary()"
      ],
      "execution_count": 0,
      "outputs": [
        {
          "output_type": "execute_result",
          "data": {
            "text/html": [
              "<table class=\"simpletable\">\n",
              "<caption>ARMA Model Results</caption>\n",
              "<tr>\n",
              "  <th>Dep. Variable:</th>      <td>feature</td>     <th>  No. Observations:  </th>    <td>80</td>   \n",
              "</tr>\n",
              "<tr>\n",
              "  <th>Model:</th>            <td>ARMA(0, 10)</td>   <th>  Log Likelihood     </th> <td>-467.285</td>\n",
              "</tr>\n",
              "<tr>\n",
              "  <th>Method:</th>             <td>css-mle</td>     <th>  S.D. of innovations</th>  <td>78.106</td> \n",
              "</tr>\n",
              "<tr>\n",
              "  <th>Date:</th>          <td>Fri, 12 Jun 2020</td> <th>  AIC                </th>  <td>958.570</td>\n",
              "</tr>\n",
              "<tr>\n",
              "  <th>Time:</th>              <td>08:00:58</td>     <th>  BIC                </th>  <td>987.154</td>\n",
              "</tr>\n",
              "<tr>\n",
              "  <th>Sample:</th>           <td>03-19-2019</td>    <th>  HQIC               </th>  <td>970.030</td>\n",
              "</tr>\n",
              "<tr>\n",
              "  <th></th>                 <td>- 03-19-2019</td>   <th>                     </th>     <td> </td>   \n",
              "</tr>\n",
              "</table>\n",
              "<table class=\"simpletable\">\n",
              "<tr>\n",
              "         <td></td>           <th>coef</th>     <th>std err</th>      <th>z</th>      <th>P>|z|</th>  <th>[0.025</th>    <th>0.975]</th>  \n",
              "</tr>\n",
              "<tr>\n",
              "  <th>const</th>          <td>  156.4490</td> <td>   30.427</td> <td>    5.142</td> <td> 0.000</td> <td>   96.813</td> <td>  216.085</td>\n",
              "</tr>\n",
              "<tr>\n",
              "  <th>ma.L1.feature</th>  <td>    0.2428</td> <td>    0.136</td> <td>    1.789</td> <td> 0.078</td> <td>   -0.023</td> <td>    0.509</td>\n",
              "</tr>\n",
              "<tr>\n",
              "  <th>ma.L2.feature</th>  <td>    0.2458</td> <td>    0.141</td> <td>    1.749</td> <td> 0.085</td> <td>   -0.030</td> <td>    0.521</td>\n",
              "</tr>\n",
              "<tr>\n",
              "  <th>ma.L3.feature</th>  <td>    0.3370</td> <td>    0.123</td> <td>    2.745</td> <td> 0.008</td> <td>    0.096</td> <td>    0.578</td>\n",
              "</tr>\n",
              "<tr>\n",
              "  <th>ma.L4.feature</th>  <td>    0.0699</td> <td>    0.116</td> <td>    0.605</td> <td> 0.547</td> <td>   -0.157</td> <td>    0.297</td>\n",
              "</tr>\n",
              "<tr>\n",
              "  <th>ma.L5.feature</th>  <td>   -0.0798</td> <td>    0.113</td> <td>   -0.705</td> <td> 0.483</td> <td>   -0.302</td> <td>    0.142</td>\n",
              "</tr>\n",
              "<tr>\n",
              "  <th>ma.L6.feature</th>  <td>    0.2078</td> <td>    0.132</td> <td>    1.569</td> <td> 0.121</td> <td>   -0.052</td> <td>    0.467</td>\n",
              "</tr>\n",
              "<tr>\n",
              "  <th>ma.L7.feature</th>  <td>    0.5824</td> <td>    0.155</td> <td>    3.750</td> <td> 0.000</td> <td>    0.278</td> <td>    0.887</td>\n",
              "</tr>\n",
              "<tr>\n",
              "  <th>ma.L8.feature</th>  <td>    0.5134</td> <td>    0.160</td> <td>    3.214</td> <td> 0.002</td> <td>    0.200</td> <td>    0.827</td>\n",
              "</tr>\n",
              "<tr>\n",
              "  <th>ma.L9.feature</th>  <td>    0.3722</td> <td>    0.158</td> <td>    2.361</td> <td> 0.021</td> <td>    0.063</td> <td>    0.681</td>\n",
              "</tr>\n",
              "<tr>\n",
              "  <th>ma.L10.feature</th> <td>    0.1644</td> <td>    0.150</td> <td>    1.094</td> <td> 0.278</td> <td>   -0.130</td> <td>    0.459</td>\n",
              "</tr>\n",
              "</table>\n",
              "<table class=\"simpletable\">\n",
              "<caption>Roots</caption>\n",
              "<tr>\n",
              "    <td></td>    <th>            Real</th>  <th>         Imaginary</th> <th>         Modulus</th>  <th>        Frequency</th>\n",
              "</tr>\n",
              "<tr>\n",
              "  <th>MA.1</th>  <td>           0.8989</td> <td>          -0.4381j</td> <td>           1.0000</td> <td>          -0.0722</td>\n",
              "</tr>\n",
              "<tr>\n",
              "  <th>MA.2</th>  <td>           0.8989</td> <td>          +0.4381j</td> <td>           1.0000</td> <td>           0.0722</td>\n",
              "</tr>\n",
              "<tr>\n",
              "  <th>MA.3</th>  <td>           0.3100</td> <td>          -0.9508j</td> <td>           1.0000</td> <td>          -0.1998</td>\n",
              "</tr>\n",
              "<tr>\n",
              "  <th>MA.4</th>  <td>           0.3100</td> <td>          +0.9508j</td> <td>           1.0000</td> <td>           0.1998</td>\n",
              "</tr>\n",
              "<tr>\n",
              "  <th>MA.5</th>  <td>          -0.1370</td> <td>          -1.4361j</td> <td>           1.4426</td> <td>          -0.2651</td>\n",
              "</tr>\n",
              "<tr>\n",
              "  <th>MA.6</th>  <td>          -0.1370</td> <td>          +1.4361j</td> <td>           1.4426</td> <td>           0.2651</td>\n",
              "</tr>\n",
              "<tr>\n",
              "  <th>MA.7</th>  <td>          -0.8482</td> <td>          -0.9024j</td> <td>           1.2384</td> <td>          -0.3701</td>\n",
              "</tr>\n",
              "<tr>\n",
              "  <th>MA.8</th>  <td>          -0.8482</td> <td>          +0.9024j</td> <td>           1.2384</td> <td>           0.3701</td>\n",
              "</tr>\n",
              "<tr>\n",
              "  <th>MA.9</th>  <td>          -1.3556</td> <td>          -0.2603j</td> <td>           1.3804</td> <td>          -0.4698</td>\n",
              "</tr>\n",
              "<tr>\n",
              "  <th>MA.10</th> <td>          -1.3556</td> <td>          +0.2603j</td> <td>           1.3804</td> <td>           0.4698</td>\n",
              "</tr>\n",
              "</table>"
            ],
            "text/plain": [
              "<class 'statsmodels.iolib.summary.Summary'>\n",
              "\"\"\"\n",
              "                              ARMA Model Results                              \n",
              "==============================================================================\n",
              "Dep. Variable:                feature   No. Observations:                   80\n",
              "Model:                    ARMA(0, 10)   Log Likelihood                -467.285\n",
              "Method:                       css-mle   S.D. of innovations             78.106\n",
              "Date:                Fri, 12 Jun 2020   AIC                            958.570\n",
              "Time:                        08:00:58   BIC                            987.154\n",
              "Sample:                    03-19-2019   HQIC                           970.030\n",
              "                         - 03-19-2019                                         \n",
              "==================================================================================\n",
              "                     coef    std err          z      P>|z|      [0.025      0.975]\n",
              "----------------------------------------------------------------------------------\n",
              "const            156.4490     30.427      5.142      0.000      96.813     216.085\n",
              "ma.L1.feature      0.2428      0.136      1.789      0.078      -0.023       0.509\n",
              "ma.L2.feature      0.2458      0.141      1.749      0.085      -0.030       0.521\n",
              "ma.L3.feature      0.3370      0.123      2.745      0.008       0.096       0.578\n",
              "ma.L4.feature      0.0699      0.116      0.605      0.547      -0.157       0.297\n",
              "ma.L5.feature     -0.0798      0.113     -0.705      0.483      -0.302       0.142\n",
              "ma.L6.feature      0.2078      0.132      1.569      0.121      -0.052       0.467\n",
              "ma.L7.feature      0.5824      0.155      3.750      0.000       0.278       0.887\n",
              "ma.L8.feature      0.5134      0.160      3.214      0.002       0.200       0.827\n",
              "ma.L9.feature      0.3722      0.158      2.361      0.021       0.063       0.681\n",
              "ma.L10.feature     0.1644      0.150      1.094      0.278      -0.130       0.459\n",
              "                                    Roots                                     \n",
              "==============================================================================\n",
              "                   Real          Imaginary           Modulus         Frequency\n",
              "------------------------------------------------------------------------------\n",
              "MA.1             0.8989           -0.4381j            1.0000           -0.0722\n",
              "MA.2             0.8989           +0.4381j            1.0000            0.0722\n",
              "MA.3             0.3100           -0.9508j            1.0000           -0.1998\n",
              "MA.4             0.3100           +0.9508j            1.0000            0.1998\n",
              "MA.5            -0.1370           -1.4361j            1.4426           -0.2651\n",
              "MA.6            -0.1370           +1.4361j            1.4426            0.2651\n",
              "MA.7            -0.8482           -0.9024j            1.2384           -0.3701\n",
              "MA.8            -0.8482           +0.9024j            1.2384            0.3701\n",
              "MA.9            -1.3556           -0.2603j            1.3804           -0.4698\n",
              "MA.10           -1.3556           +0.2603j            1.3804            0.4698\n",
              "------------------------------------------------------------------------------\n",
              "\"\"\""
            ]
          },
          "metadata": {
            "tags": []
          },
          "execution_count": 17
        }
      ]
    },
    {
      "cell_type": "code",
      "metadata": {
        "id": "hdAQqgJOVF1O",
        "colab_type": "code",
        "outputId": "f3f02e35-6ada-434d-a451-ca4fa1fc29da",
        "colab": {
          "base_uri": "https://localhost:8080/",
          "height": 308
        }
      },
      "source": [
        "ts_df['forecast'] = model.predict(start=10,end=80)\n",
        "ts_df[['feature','forecast']].plot()"
      ],
      "execution_count": 0,
      "outputs": [
        {
          "output_type": "execute_result",
          "data": {
            "text/plain": [
              "<matplotlib.axes._subplots.AxesSubplot at 0x7fc5655aa320>"
            ]
          },
          "metadata": {
            "tags": []
          },
          "execution_count": 18
        },
        {
          "output_type": "display_data",
          "data": {
            "image/png": "[encoded data removed]",
            "text/plain": [
              "<Figure size 432x288 with 1 Axes>"
            ]
          },
          "metadata": {
            "tags": [],
            "needs_background": "light"
          }
        }
      ]
    },
    {
      "cell_type": "code",
      "metadata": {
        "id": "W7qFCJIN7zrc",
        "colab_type": "code",
        "outputId": "1e7da899-4af8-497f-8cb9-37d909d841c8",
        "colab": {
          "base_uri": "https://localhost:8080/",
          "height": 34
        }
      },
      "source": [
        "from sklearn.metrics import mean_squared_error\n",
        "mse_arima = mean_squared_error(ts_df['forecast'].dropna(),ts_df.iloc[10:81,0])\n",
        "np.sqrt(mse_arima)"
      ],
      "execution_count": 0,
      "outputs": [
        {
          "output_type": "execute_result",
          "data": {
            "text/plain": [
              "77.55736547622482"
            ]
          },
          "metadata": {
            "tags": []
          },
          "execution_count": 19
        }
      ]
    },
    {
      "cell_type": "markdown",
      "metadata": {
        "id": "85edQfx9ozIy",
        "colab_type": "text"
      },
      "source": [
        "## Normalising the data"
      ]
    },
    {
      "cell_type": "code",
      "metadata": {
        "id": "jk4TON0SoyfX",
        "colab_type": "code",
        "colab": {}
      },
      "source": [
        "from sklearn.preprocessing import MinMaxScaler"
      ],
      "execution_count": 0,
      "outputs": []
    },
    {
      "cell_type": "code",
      "metadata": {
        "id": "IjiWvZWJqhnx",
        "colab_type": "code",
        "colab": {}
      },
      "source": [
        "ts_df= ts_df.drop(['forecast'],axis=1)"
      ],
      "execution_count": 0,
      "outputs": []
    },
    {
      "cell_type": "code",
      "metadata": {
        "id": "5MbwTugotMj1",
        "colab_type": "code",
        "outputId": "86ac0bb4-97be-4cc9-889f-51cbc2369ac6",
        "colab": {
          "base_uri": "https://localhost:8080/",
          "height": 231
        }
      },
      "source": [
        "ts_df.head()"
      ],
      "execution_count": 0,
      "outputs": [
        {
          "output_type": "execute_result",
          "data": {
            "text/html": [
              "<div>\n",
              "<style scoped>\n",
              "    .dataframe tbody tr th:only-of-type {\n",
              "        vertical-align: middle;\n",
              "    }\n",
              "\n",
              "    .dataframe tbody tr th {\n",
              "        vertical-align: top;\n",
              "    }\n",
              "\n",
              "    .dataframe thead th {\n",
              "        text-align: right;\n",
              "    }\n",
              "</style>\n",
              "<table border=\"1\" class=\"dataframe\">\n",
              "  <thead>\n",
              "    <tr style=\"text-align: right;\">\n",
              "      <th></th>\n",
              "      <th>feature</th>\n",
              "    </tr>\n",
              "    <tr>\n",
              "      <th>time</th>\n",
              "      <th></th>\n",
              "    </tr>\n",
              "  </thead>\n",
              "  <tbody>\n",
              "    <tr>\n",
              "      <th>2019-03-19 00:00:00</th>\n",
              "      <td>237.97</td>\n",
              "    </tr>\n",
              "    <tr>\n",
              "      <th>2019-03-19 00:00:10</th>\n",
              "      <td>57.93</td>\n",
              "    </tr>\n",
              "    <tr>\n",
              "      <th>2019-03-19 00:00:20</th>\n",
              "      <td>90.53</td>\n",
              "    </tr>\n",
              "    <tr>\n",
              "      <th>2019-03-19 00:00:30</th>\n",
              "      <td>260.75</td>\n",
              "    </tr>\n",
              "    <tr>\n",
              "      <th>2019-03-19 00:00:40</th>\n",
              "      <td>49.70</td>\n",
              "    </tr>\n",
              "  </tbody>\n",
              "</table>\n",
              "</div>"
            ],
            "text/plain": [
              "                     feature\n",
              "time                        \n",
              "2019-03-19 00:00:00   237.97\n",
              "2019-03-19 00:00:10    57.93\n",
              "2019-03-19 00:00:20    90.53\n",
              "2019-03-19 00:00:30   260.75\n",
              "2019-03-19 00:00:40    49.70"
            ]
          },
          "metadata": {
            "tags": []
          },
          "execution_count": 22
        }
      ]
    },
    {
      "cell_type": "code",
      "metadata": {
        "id": "KEQVMoVAYmDn",
        "colab_type": "code",
        "outputId": "35ae3ccd-a5fe-49e8-e4ed-dd678d9931cb",
        "colab": {
          "base_uri": "https://localhost:8080/",
          "height": 201
        }
      },
      "source": [
        "norm_scaler = MinMaxScaler()\n",
        "ts_df_norm= pd.DataFrame(norm_scaler.fit_transform(ts_df))\n",
        "ts_df_norm.head()"
      ],
      "execution_count": 0,
      "outputs": [
        {
          "output_type": "execute_result",
          "data": {
            "text/html": [
              "<div>\n",
              "<style scoped>\n",
              "    .dataframe tbody tr th:only-of-type {\n",
              "        vertical-align: middle;\n",
              "    }\n",
              "\n",
              "    .dataframe tbody tr th {\n",
              "        vertical-align: top;\n",
              "    }\n",
              "\n",
              "    .dataframe thead th {\n",
              "        text-align: right;\n",
              "    }\n",
              "</style>\n",
              "<table border=\"1\" class=\"dataframe\">\n",
              "  <thead>\n",
              "    <tr style=\"text-align: right;\">\n",
              "      <th></th>\n",
              "      <th>0</th>\n",
              "    </tr>\n",
              "  </thead>\n",
              "  <tbody>\n",
              "    <tr>\n",
              "      <th>0</th>\n",
              "      <td>0.483116</td>\n",
              "    </tr>\n",
              "    <tr>\n",
              "      <th>1</th>\n",
              "      <td>0.081564</td>\n",
              "    </tr>\n",
              "    <tr>\n",
              "      <th>2</th>\n",
              "      <td>0.154273</td>\n",
              "    </tr>\n",
              "    <tr>\n",
              "      <th>3</th>\n",
              "      <td>0.533924</td>\n",
              "    </tr>\n",
              "    <tr>\n",
              "      <th>4</th>\n",
              "      <td>0.063208</td>\n",
              "    </tr>\n",
              "  </tbody>\n",
              "</table>\n",
              "</div>"
            ],
            "text/plain": [
              "          0\n",
              "0  0.483116\n",
              "1  0.081564\n",
              "2  0.154273\n",
              "3  0.533924\n",
              "4  0.063208"
            ]
          },
          "metadata": {
            "tags": []
          },
          "execution_count": 23
        }
      ]
    },
    {
      "cell_type": "code",
      "metadata": {
        "id": "PVA8DCR-0aZ_",
        "colab_type": "code",
        "outputId": "29a9b7ad-8be4-4784-90f0-397697a7d82b",
        "colab": {
          "base_uri": "https://localhost:8080/",
          "height": 201
        }
      },
      "source": [
        "ts_df_norm.columns =['feature']\n",
        "ts_df_norm.head()"
      ],
      "execution_count": 0,
      "outputs": [
        {
          "output_type": "execute_result",
          "data": {
            "text/html": [
              "<div>\n",
              "<style scoped>\n",
              "    .dataframe tbody tr th:only-of-type {\n",
              "        vertical-align: middle;\n",
              "    }\n",
              "\n",
              "    .dataframe tbody tr th {\n",
              "        vertical-align: top;\n",
              "    }\n",
              "\n",
              "    .dataframe thead th {\n",
              "        text-align: right;\n",
              "    }\n",
              "</style>\n",
              "<table border=\"1\" class=\"dataframe\">\n",
              "  <thead>\n",
              "    <tr style=\"text-align: right;\">\n",
              "      <th></th>\n",
              "      <th>feature</th>\n",
              "    </tr>\n",
              "  </thead>\n",
              "  <tbody>\n",
              "    <tr>\n",
              "      <th>0</th>\n",
              "      <td>0.483116</td>\n",
              "    </tr>\n",
              "    <tr>\n",
              "      <th>1</th>\n",
              "      <td>0.081564</td>\n",
              "    </tr>\n",
              "    <tr>\n",
              "      <th>2</th>\n",
              "      <td>0.154273</td>\n",
              "    </tr>\n",
              "    <tr>\n",
              "      <th>3</th>\n",
              "      <td>0.533924</td>\n",
              "    </tr>\n",
              "    <tr>\n",
              "      <th>4</th>\n",
              "      <td>0.063208</td>\n",
              "    </tr>\n",
              "  </tbody>\n",
              "</table>\n",
              "</div>"
            ],
            "text/plain": [
              "    feature\n",
              "0  0.483116\n",
              "1  0.081564\n",
              "2  0.154273\n",
              "3  0.533924\n",
              "4  0.063208"
            ]
          },
          "metadata": {
            "tags": []
          },
          "execution_count": 24
        }
      ]
    },
    {
      "cell_type": "code",
      "metadata": {
        "id": "sIE9Mb7pp4Sg",
        "colab_type": "code",
        "outputId": "e7cc511b-9b18-4628-c20e-11574c96d1c1",
        "colab": {
          "base_uri": "https://localhost:8080/",
          "height": 51
        }
      },
      "source": [
        "norm_model =ARIMA(ts_df_norm,order=(0,0,10))\n",
        "norm_model = norm_model.fit()"
      ],
      "execution_count": 0,
      "outputs": [
        {
          "output_type": "stream",
          "text": [
            "/usr/local/lib/python3.6/dist-packages/statsmodels/base/model.py:512: ConvergenceWarning: Maximum Likelihood optimization failed to converge. Check mle_retvals\n",
            "  \"Check mle_retvals\", ConvergenceWarning)\n"
          ],
          "name": "stderr"
        }
      ]
    },
    {
      "cell_type": "code",
      "metadata": {
        "id": "Nuv2phrSyXuV",
        "colab_type": "code",
        "outputId": "33b9df0c-f707-46ca-8cb8-64834ce89c18",
        "colab": {
          "base_uri": "https://localhost:8080/",
          "height": 34
        }
      },
      "source": [
        "norm_model.predict(start=10,end=80).shape"
      ],
      "execution_count": 0,
      "outputs": [
        {
          "output_type": "execute_result",
          "data": {
            "text/plain": [
              "(71,)"
            ]
          },
          "metadata": {
            "tags": []
          },
          "execution_count": 26
        }
      ]
    },
    {
      "cell_type": "code",
      "metadata": {
        "id": "vzek1Pd_w_DE",
        "colab_type": "code",
        "outputId": "742fde53-b61b-48b0-9411-5066c8bdd721",
        "colab": {
          "base_uri": "https://localhost:8080/",
          "height": 282
        }
      },
      "source": [
        "ts_df_norm['forecast'] = norm_model.predict(start=10,end=80)\n",
        "ts_df_norm[['feature','forecast']].plot()"
      ],
      "execution_count": 0,
      "outputs": [
        {
          "output_type": "execute_result",
          "data": {
            "text/plain": [
              "<matplotlib.axes._subplots.AxesSubplot at 0x7fc565598a58>"
            ]
          },
          "metadata": {
            "tags": []
          },
          "execution_count": 27
        },
        {
          "output_type": "display_data",
          "data": {
            "image/png": "[encoded data removed]",
            "text/plain": [
              "<Figure size 432x288 with 1 Axes>"
            ]
          },
          "metadata": {
            "tags": [],
            "needs_background": "light"
          }
        }
      ]
    },
    {
      "cell_type": "code",
      "metadata": {
        "id": "n7dgZDaKYeH9",
        "colab_type": "code",
        "outputId": "d892d801-5c48-4a93-e6a2-97c0d3d2c6a2",
        "colab": {
          "base_uri": "https://localhost:8080/",
          "height": 513
        }
      },
      "source": [
        "norm_model.plot_predict()"
      ],
      "execution_count": 0,
      "outputs": [
        {
          "output_type": "execute_result",
          "data": {
            "image/png": "[encoded data removed]",
            "text/plain": [
              "<Figure size 432x288 with 1 Axes>"
            ]
          },
          "metadata": {
            "tags": []
          },
          "execution_count": 28
        },
        {
          "output_type": "display_data",
          "data": {
            "image/png": "[encoded data removed]",
            "text/plain": [
              "<Figure size 432x288 with 1 Axes>"
            ]
          },
          "metadata": {
            "tags": [],
            "needs_background": "light"
          }
        }
      ]
    },
    {
      "cell_type": "code",
      "metadata": {
        "id": "z3luL0GYXs4Z",
        "colab_type": "code",
        "outputId": "e61c00e9-b2e4-49e9-e4c3-5146503093ef",
        "colab": {
          "base_uri": "https://localhost:8080/",
          "height": 34
        }
      },
      "source": [
        "mse_norm = mean_squared_error(ts_df_norm['forecast'].dropna(),ts_df_norm.iloc[10:81,0])\n",
        "np.sqrt(mse_norm)"
      ],
      "execution_count": 0,
      "outputs": [
        {
          "output_type": "execute_result",
          "data": {
            "text/plain": [
              "0.17298069827704315"
            ]
          },
          "metadata": {
            "tags": []
          },
          "execution_count": 29
        }
      ]
    },
    {
      "cell_type": "code",
      "metadata": {
        "id": "OWfNIAxRYoap",
        "colab_type": "code",
        "outputId": "1ee4e3b0-b977-4772-8936-d2ad42b76346",
        "colab": {
          "base_uri": "https://localhost:8080/",
          "height": 412
        }
      },
      "source": [
        "ts_df_norm"
      ],
      "execution_count": 0,
      "outputs": [
        {
          "output_type": "execute_result",
          "data": {
            "text/html": [
              "<div>\n",
              "<style scoped>\n",
              "    .dataframe tbody tr th:only-of-type {\n",
              "        vertical-align: middle;\n",
              "    }\n",
              "\n",
              "    .dataframe tbody tr th {\n",
              "        vertical-align: top;\n",
              "    }\n",
              "\n",
              "    .dataframe thead th {\n",
              "        text-align: right;\n",
              "    }\n",
              "</style>\n",
              "<table border=\"1\" class=\"dataframe\">\n",
              "  <thead>\n",
              "    <tr style=\"text-align: right;\">\n",
              "      <th></th>\n",
              "      <th>feature</th>\n",
              "      <th>forecast</th>\n",
              "    </tr>\n",
              "  </thead>\n",
              "  <tbody>\n",
              "    <tr>\n",
              "      <th>0</th>\n",
              "      <td>0.483116</td>\n",
              "      <td>NaN</td>\n",
              "    </tr>\n",
              "    <tr>\n",
              "      <th>1</th>\n",
              "      <td>0.081564</td>\n",
              "      <td>NaN</td>\n",
              "    </tr>\n",
              "    <tr>\n",
              "      <th>2</th>\n",
              "      <td>0.154273</td>\n",
              "      <td>NaN</td>\n",
              "    </tr>\n",
              "    <tr>\n",
              "      <th>3</th>\n",
              "      <td>0.533924</td>\n",
              "      <td>NaN</td>\n",
              "    </tr>\n",
              "    <tr>\n",
              "      <th>4</th>\n",
              "      <td>0.063208</td>\n",
              "      <td>NaN</td>\n",
              "    </tr>\n",
              "    <tr>\n",
              "      <th>...</th>\n",
              "      <td>...</td>\n",
              "      <td>...</td>\n",
              "    </tr>\n",
              "    <tr>\n",
              "      <th>75</th>\n",
              "      <td>1.000000</td>\n",
              "      <td>0.636089</td>\n",
              "    </tr>\n",
              "    <tr>\n",
              "      <th>76</th>\n",
              "      <td>0.859644</td>\n",
              "      <td>0.580647</td>\n",
              "    </tr>\n",
              "    <tr>\n",
              "      <th>77</th>\n",
              "      <td>0.239874</td>\n",
              "      <td>0.529197</td>\n",
              "    </tr>\n",
              "    <tr>\n",
              "      <th>78</th>\n",
              "      <td>0.142564</td>\n",
              "      <td>0.287416</td>\n",
              "    </tr>\n",
              "    <tr>\n",
              "      <th>79</th>\n",
              "      <td>0.222500</td>\n",
              "      <td>0.110069</td>\n",
              "    </tr>\n",
              "  </tbody>\n",
              "</table>\n",
              "<p>80 rows × 2 columns</p>\n",
              "</div>"
            ],
            "text/plain": [
              "     feature  forecast\n",
              "0   0.483116       NaN\n",
              "1   0.081564       NaN\n",
              "2   0.154273       NaN\n",
              "3   0.533924       NaN\n",
              "4   0.063208       NaN\n",
              "..       ...       ...\n",
              "75  1.000000  0.636089\n",
              "76  0.859644  0.580647\n",
              "77  0.239874  0.529197\n",
              "78  0.142564  0.287416\n",
              "79  0.222500  0.110069\n",
              "\n",
              "[80 rows x 2 columns]"
            ]
          },
          "metadata": {
            "tags": []
          },
          "execution_count": 30
        }
      ]
    },
    {
      "cell_type": "markdown",
      "metadata": {
        "id": "NIrWXSOH3UPQ",
        "colab_type": "text"
      },
      "source": [
        "# Standardization of Data"
      ]
    },
    {
      "cell_type": "code",
      "metadata": {
        "id": "HR79TNCAxxRH",
        "colab_type": "code",
        "colab": {}
      },
      "source": [
        "from sklearn.preprocessing import StandardScaler"
      ],
      "execution_count": 0,
      "outputs": []
    },
    {
      "cell_type": "code",
      "metadata": {
        "id": "JF59qiGc30Op",
        "colab_type": "code",
        "outputId": "dd064435-ecfd-41a1-fe24-b64e3d331e9b",
        "colab": {
          "base_uri": "https://localhost:8080/",
          "height": 201
        }
      },
      "source": [
        "stand_scaler = StandardScaler()\n",
        "ts_df_stand = pd.DataFrame(stand_scaler.fit_transform(ts_df))\n",
        "ts_df_stand.head()"
      ],
      "execution_count": 0,
      "outputs": [
        {
          "output_type": "execute_result",
          "data": {
            "text/html": [
              "<div>\n",
              "<style scoped>\n",
              "    .dataframe tbody tr th:only-of-type {\n",
              "        vertical-align: middle;\n",
              "    }\n",
              "\n",
              "    .dataframe tbody tr th {\n",
              "        vertical-align: top;\n",
              "    }\n",
              "\n",
              "    .dataframe thead th {\n",
              "        text-align: right;\n",
              "    }\n",
              "</style>\n",
              "<table border=\"1\" class=\"dataframe\">\n",
              "  <thead>\n",
              "    <tr style=\"text-align: right;\">\n",
              "      <th></th>\n",
              "      <th>0</th>\n",
              "    </tr>\n",
              "  </thead>\n",
              "  <tbody>\n",
              "    <tr>\n",
              "      <th>0</th>\n",
              "      <td>0.940092</td>\n",
              "    </tr>\n",
              "    <tr>\n",
              "      <th>1</th>\n",
              "      <td>-0.930665</td>\n",
              "    </tr>\n",
              "    <tr>\n",
              "      <th>2</th>\n",
              "      <td>-0.591926</td>\n",
              "    </tr>\n",
              "    <tr>\n",
              "      <th>3</th>\n",
              "      <td>1.176795</td>\n",
              "    </tr>\n",
              "    <tr>\n",
              "      <th>4</th>\n",
              "      <td>-1.016182</td>\n",
              "    </tr>\n",
              "  </tbody>\n",
              "</table>\n",
              "</div>"
            ],
            "text/plain": [
              "          0\n",
              "0  0.940092\n",
              "1 -0.930665\n",
              "2 -0.591926\n",
              "3  1.176795\n",
              "4 -1.016182"
            ]
          },
          "metadata": {
            "tags": []
          },
          "execution_count": 32
        }
      ]
    },
    {
      "cell_type": "code",
      "metadata": {
        "id": "ZLqBONQu4RG2",
        "colab_type": "code",
        "outputId": "9117c300-2389-48fd-eac3-d56774117131",
        "colab": {
          "base_uri": "https://localhost:8080/",
          "height": 201
        }
      },
      "source": [
        "ts_df_stand.columns =['feature']\n",
        "ts_df_stand.head()"
      ],
      "execution_count": 0,
      "outputs": [
        {
          "output_type": "execute_result",
          "data": {
            "text/html": [
              "<div>\n",
              "<style scoped>\n",
              "    .dataframe tbody tr th:only-of-type {\n",
              "        vertical-align: middle;\n",
              "    }\n",
              "\n",
              "    .dataframe tbody tr th {\n",
              "        vertical-align: top;\n",
              "    }\n",
              "\n",
              "    .dataframe thead th {\n",
              "        text-align: right;\n",
              "    }\n",
              "</style>\n",
              "<table border=\"1\" class=\"dataframe\">\n",
              "  <thead>\n",
              "    <tr style=\"text-align: right;\">\n",
              "      <th></th>\n",
              "      <th>feature</th>\n",
              "    </tr>\n",
              "  </thead>\n",
              "  <tbody>\n",
              "    <tr>\n",
              "      <th>0</th>\n",
              "      <td>0.940092</td>\n",
              "    </tr>\n",
              "    <tr>\n",
              "      <th>1</th>\n",
              "      <td>-0.930665</td>\n",
              "    </tr>\n",
              "    <tr>\n",
              "      <th>2</th>\n",
              "      <td>-0.591926</td>\n",
              "    </tr>\n",
              "    <tr>\n",
              "      <th>3</th>\n",
              "      <td>1.176795</td>\n",
              "    </tr>\n",
              "    <tr>\n",
              "      <th>4</th>\n",
              "      <td>-1.016182</td>\n",
              "    </tr>\n",
              "  </tbody>\n",
              "</table>\n",
              "</div>"
            ],
            "text/plain": [
              "    feature\n",
              "0  0.940092\n",
              "1 -0.930665\n",
              "2 -0.591926\n",
              "3  1.176795\n",
              "4 -1.016182"
            ]
          },
          "metadata": {
            "tags": []
          },
          "execution_count": 33
        }
      ]
    },
    {
      "cell_type": "code",
      "metadata": {
        "id": "s1P_QLtw5ke0",
        "colab_type": "code",
        "outputId": "aa09f696-eda3-4e6c-e08a-cd615ee524f4",
        "colab": {
          "base_uri": "https://localhost:8080/",
          "height": 51
        }
      },
      "source": [
        "stand_model =ARIMA(ts_df_stand,order=(0,0,10))\n",
        "stand_model = stand_model.fit()"
      ],
      "execution_count": 0,
      "outputs": [
        {
          "output_type": "stream",
          "text": [
            "/usr/local/lib/python3.6/dist-packages/statsmodels/base/model.py:512: ConvergenceWarning: Maximum Likelihood optimization failed to converge. Check mle_retvals\n",
            "  \"Check mle_retvals\", ConvergenceWarning)\n"
          ],
          "name": "stderr"
        }
      ]
    },
    {
      "cell_type": "code",
      "metadata": {
        "id": "l5kHO3Eu55SD",
        "colab_type": "code",
        "outputId": "2f95460a-c0fa-46de-b526-7f67634a4ed3",
        "colab": {
          "base_uri": "https://localhost:8080/",
          "height": 282
        }
      },
      "source": [
        "ts_df_stand['forecast'] = stand_model.predict(start=10,end=80)\n",
        "ts_df_stand[['feature','forecast']].plot()"
      ],
      "execution_count": 0,
      "outputs": [
        {
          "output_type": "execute_result",
          "data": {
            "text/plain": [
              "<matplotlib.axes._subplots.AxesSubplot at 0x7fc563a173c8>"
            ]
          },
          "metadata": {
            "tags": []
          },
          "execution_count": 35
        },
        {
          "output_type": "display_data",
          "data": {
            "image/png": "[encoded data removed]",
            "text/plain": [
              "<Figure size 432x288 with 1 Axes>"
            ]
          },
          "metadata": {
            "tags": [],
            "needs_background": "light"
          }
        }
      ]
    },
    {
      "cell_type": "code",
      "metadata": {
        "id": "WvpErKzg67nA",
        "colab_type": "code",
        "outputId": "0a1438b3-2b67-4b53-9fff-2db925563b1e",
        "colab": {
          "base_uri": "https://localhost:8080/",
          "height": 513
        }
      },
      "source": [
        "stand_model.plot_predict()"
      ],
      "execution_count": 0,
      "outputs": [
        {
          "output_type": "execute_result",
          "data": {
            "image/png": "[encoded data removed]",
            "text/plain": [
              "<Figure size 432x288 with 1 Axes>"
            ]
          },
          "metadata": {
            "tags": []
          },
          "execution_count": 36
        },
        {
          "output_type": "display_data",
          "data": {
            "image/png": "[encoded data removed]",
            "text/plain": [
              "<Figure size 432x288 with 1 Axes>"
            ]
          },
          "metadata": {
            "tags": [],
            "needs_background": "light"
          }
        }
      ]
    },
    {
      "cell_type": "code",
      "metadata": {
        "id": "3WMz7kO8A8eD",
        "colab_type": "code",
        "outputId": "fdb9d1fe-5e18-43ba-b56f-4b50d7c3ecad",
        "colab": {
          "base_uri": "https://localhost:8080/",
          "height": 34
        }
      },
      "source": [
        "mse_stand = mean_squared_error(ts_df_stand['forecast'].dropna(),ts_df_stand.iloc[10:81,0])\n",
        "np.sqrt(mse_stand)"
      ],
      "execution_count": 0,
      "outputs": [
        {
          "output_type": "execute_result",
          "data": {
            "text/plain": [
              "0.8058813433371785"
            ]
          },
          "metadata": {
            "tags": []
          },
          "execution_count": 37
        }
      ]
    },
    {
      "cell_type": "markdown",
      "metadata": {
        "id": "Cv1DLo1xwX13",
        "colab_type": "text"
      },
      "source": [
        "# Prediction for test data"
      ]
    },
    {
      "cell_type": "code",
      "metadata": {
        "id": "LPZlcZ02vSQG",
        "colab_type": "code",
        "outputId": "a0c2b68d-cb1b-4b02-aaba-58cb42ef577a",
        "colab": {
          "base_uri": "https://localhost:8080/",
          "height": 34
        }
      },
      "source": [
        "test = pd.read_csv('/content/drive/My Drive/Timeseries/test_csv.csv')\n",
        "test.shape"
      ],
      "execution_count": 0,
      "outputs": [
        {
          "output_type": "execute_result",
          "data": {
            "text/plain": [
              "(40, 2)"
            ]
          },
          "metadata": {
            "tags": []
          },
          "execution_count": 38
        }
      ]
    },
    {
      "cell_type": "code",
      "metadata": {
        "id": "t2VfpY3gxpFc",
        "colab_type": "code",
        "colab": {}
      },
      "source": [
        "predictions=norm_model.predict(start=80,end=119,dynamic=True,exog=None)"
      ],
      "execution_count": 0,
      "outputs": []
    },
    {
      "cell_type": "code",
      "metadata": {
        "id": "MrezUcgDyAoJ",
        "colab_type": "code",
        "outputId": "eed26723-8dbc-4697-8a25-83597ff32976",
        "colab": {
          "base_uri": "https://localhost:8080/",
          "height": 34
        }
      },
      "source": [
        "predictions = pd.DataFrame(norm_scaler.inverse_transform((np.array(predictions)).reshape(-1,1)))\n",
        "predictions.shape"
      ],
      "execution_count": 0,
      "outputs": [
        {
          "output_type": "execute_result",
          "data": {
            "text/plain": [
              "(40, 1)"
            ]
          },
          "metadata": {
            "tags": []
          },
          "execution_count": 41
        }
      ]
    },
    {
      "cell_type": "code",
      "metadata": {
        "id": "N99zR2GuyMfI",
        "colab_type": "code",
        "outputId": "c71ab9ba-e829-4d1e-b712-a4f94befe2b4",
        "colab": {
          "base_uri": "https://localhost:8080/",
          "height": 201
        }
      },
      "source": [
        "test['feature'] = predictions\n",
        "test.head()"
      ],
      "execution_count": 0,
      "outputs": [
        {
          "output_type": "execute_result",
          "data": {
            "text/html": [
              "<div>\n",
              "<style scoped>\n",
              "    .dataframe tbody tr th:only-of-type {\n",
              "        vertical-align: middle;\n",
              "    }\n",
              "\n",
              "    .dataframe tbody tr th {\n",
              "        vertical-align: top;\n",
              "    }\n",
              "\n",
              "    .dataframe thead th {\n",
              "        text-align: right;\n",
              "    }\n",
              "</style>\n",
              "<table border=\"1\" class=\"dataframe\">\n",
              "  <thead>\n",
              "    <tr style=\"text-align: right;\">\n",
              "      <th></th>\n",
              "      <th>id</th>\n",
              "      <th>time</th>\n",
              "      <th>feature</th>\n",
              "    </tr>\n",
              "  </thead>\n",
              "  <tbody>\n",
              "    <tr>\n",
              "      <th>0</th>\n",
              "      <td>80</td>\n",
              "      <td>2019-03-19 00:13:20</td>\n",
              "      <td>73.545107</td>\n",
              "    </tr>\n",
              "    <tr>\n",
              "      <th>1</th>\n",
              "      <td>81</td>\n",
              "      <td>2019-03-19 00:13:30</td>\n",
              "      <td>237.849642</td>\n",
              "    </tr>\n",
              "    <tr>\n",
              "      <th>2</th>\n",
              "      <td>82</td>\n",
              "      <td>2019-03-19 00:13:40</td>\n",
              "      <td>380.755372</td>\n",
              "    </tr>\n",
              "    <tr>\n",
              "      <th>3</th>\n",
              "      <td>83</td>\n",
              "      <td>2019-03-19 00:13:50</td>\n",
              "      <td>358.469505</td>\n",
              "    </tr>\n",
              "    <tr>\n",
              "      <th>4</th>\n",
              "      <td>84</td>\n",
              "      <td>2019-03-19 00:14:00</td>\n",
              "      <td>221.672639</td>\n",
              "    </tr>\n",
              "  </tbody>\n",
              "</table>\n",
              "</div>"
            ],
            "text/plain": [
              "   id                 time     feature\n",
              "0  80  2019-03-19 00:13:20   73.545107\n",
              "1  81  2019-03-19 00:13:30  237.849642\n",
              "2  82  2019-03-19 00:13:40  380.755372\n",
              "3  83  2019-03-19 00:13:50  358.469505\n",
              "4  84  2019-03-19 00:14:00  221.672639"
            ]
          },
          "metadata": {
            "tags": []
          },
          "execution_count": 42
        }
      ]
    },
    {
      "cell_type": "code",
      "metadata": {
        "id": "xGmteSrlj36C",
        "colab_type": "code",
        "colab": {}
      },
      "source": [
        "test.to_csv(path_or_buf='/content/drive/My Drive/test_predictions.csv')"
      ],
      "execution_count": 0,
      "outputs": []
    },
    {
      "cell_type": "code",
      "metadata": {
        "id": "9OKduC4P0Ooj",
        "colab_type": "code",
        "colab": {}
      },
      "source": [
        "train= pd.read_csv('/content/drive/My Drive/Timeseries/train_csv.csv')"
      ],
      "execution_count": 0,
      "outputs": []
    },
    {
      "cell_type": "code",
      "metadata": {
        "id": "VnVIf1RU2alV",
        "colab_type": "code",
        "outputId": "13edfba9-b478-4f2c-e8ce-b2daa74fcc02",
        "colab": {
          "base_uri": "https://localhost:8080/",
          "height": 201
        }
      },
      "source": [
        "data = pd.concat([train,test],ignore_index=True)\n",
        "data.tail()"
      ],
      "execution_count": 0,
      "outputs": [
        {
          "output_type": "execute_result",
          "data": {
            "text/html": [
              "<div>\n",
              "<style scoped>\n",
              "    .dataframe tbody tr th:only-of-type {\n",
              "        vertical-align: middle;\n",
              "    }\n",
              "\n",
              "    .dataframe tbody tr th {\n",
              "        vertical-align: top;\n",
              "    }\n",
              "\n",
              "    .dataframe thead th {\n",
              "        text-align: right;\n",
              "    }\n",
              "</style>\n",
              "<table border=\"1\" class=\"dataframe\">\n",
              "  <thead>\n",
              "    <tr style=\"text-align: right;\">\n",
              "      <th></th>\n",
              "      <th>id</th>\n",
              "      <th>time</th>\n",
              "      <th>feature</th>\n",
              "    </tr>\n",
              "  </thead>\n",
              "  <tbody>\n",
              "    <tr>\n",
              "      <th>115</th>\n",
              "      <td>115</td>\n",
              "      <td>2019-03-19 00:19:10</td>\n",
              "      <td>156.449054</td>\n",
              "    </tr>\n",
              "    <tr>\n",
              "      <th>116</th>\n",
              "      <td>116</td>\n",
              "      <td>2019-03-19 00:19:20</td>\n",
              "      <td>156.449054</td>\n",
              "    </tr>\n",
              "    <tr>\n",
              "      <th>117</th>\n",
              "      <td>117</td>\n",
              "      <td>2019-03-19 00:19:30</td>\n",
              "      <td>156.449054</td>\n",
              "    </tr>\n",
              "    <tr>\n",
              "      <th>118</th>\n",
              "      <td>118</td>\n",
              "      <td>2019-03-19 00:19:40</td>\n",
              "      <td>156.449054</td>\n",
              "    </tr>\n",
              "    <tr>\n",
              "      <th>119</th>\n",
              "      <td>119</td>\n",
              "      <td>2019-03-19 00:19:50</td>\n",
              "      <td>156.449054</td>\n",
              "    </tr>\n",
              "  </tbody>\n",
              "</table>\n",
              "</div>"
            ],
            "text/plain": [
              "      id                 time     feature\n",
              "115  115  2019-03-19 00:19:10  156.449054\n",
              "116  116  2019-03-19 00:19:20  156.449054\n",
              "117  117  2019-03-19 00:19:30  156.449054\n",
              "118  118  2019-03-19 00:19:40  156.449054\n",
              "119  119  2019-03-19 00:19:50  156.449054"
            ]
          },
          "metadata": {
            "tags": []
          },
          "execution_count": 47
        }
      ]
    },
    {
      "cell_type": "code",
      "metadata": {
        "id": "9lDY_5Ox2nKt",
        "colab_type": "code",
        "outputId": "72f265e2-6240-4689-907f-2b6ba019c79c",
        "colab": {
          "base_uri": "https://localhost:8080/",
          "height": 282
        }
      },
      "source": [
        "data[['time','feature']].plot()"
      ],
      "execution_count": 0,
      "outputs": [
        {
          "output_type": "execute_result",
          "data": {
            "text/plain": [
              "<matplotlib.axes._subplots.AxesSubplot at 0x7fc561632278>"
            ]
          },
          "metadata": {
            "tags": []
          },
          "execution_count": 48
        },
        {
          "output_type": "display_data",
          "data": {
            "image/png": "[encoded data removed]",
            "text/plain": [
              "<Figure size 432x288 with 1 Axes>"
            ]
          },
          "metadata": {
            "tags": [],
            "needs_background": "light"
          }
        }
      ]
    },
    {
      "cell_type": "code",
      "metadata": {
        "id": "J3uS4ecH3IfU",
        "colab_type": "code",
        "outputId": "bd4a1004-2112-49f0-f9fa-26e9c0bc39b1",
        "colab": {
          "base_uri": "https://localhost:8080/",
          "height": 68
        }
      },
      "source": [
        "print('RMSE of Arima model             : %.4f'% (np.sqrt(mse_arima)))\n",
        "print('RMSE of Normalised data Arima model  : %.4f'% (np.sqrt(mse_norm)))\n",
        "print('RMSE of Standardized data Arima model: %.4f'% (np.sqrt(mse_stand)))"
      ],
      "execution_count": 0,
      "outputs": [
        {
          "output_type": "stream",
          "text": [
            "RMSE of Arima model             : 77.5574\n",
            "RMSE of Normalised data Arima model  : 0.1730\n",
            "RMSE of Standardized data Arima model: 0.8059\n"
          ],
          "name": "stdout"
        }
      ]
    },
    {
      "cell_type": "markdown",
      "metadata": {
        "id": "hF5AgyRLhVJO",
        "colab_type": "text"
      },
      "source": [
        "#Best RMSE i got with ARIMA model by Normalised Dataset\n",
        "\n"
      ]
    },
    {
      "cell_type": "markdown",
      "metadata": {
        "id": "qeyF4tHVxdT2",
        "colab_type": "text"
      },
      "source": [
        "# LSTM"
      ]
    },
    {
      "cell_type": "code",
      "metadata": {
        "id": "AcIME127xcNS",
        "colab_type": "code",
        "outputId": "cadb03e9-1e2e-4d0a-ea2a-e0a3e251febd",
        "colab": {
          "base_uri": "https://localhost:8080/",
          "height": 34
        }
      },
      "source": [
        "from keras.models import Sequential\n",
        "from keras.layers import Dense,LSTM"
      ],
      "execution_count": 0,
      "outputs": [
        {
          "output_type": "stream",
          "text": [
            "Using TensorFlow backend.\n"
          ],
          "name": "stderr"
        }
      ]
    },
    {
      "cell_type": "code",
      "metadata": {
        "id": "5zgIv2JN4kFA",
        "colab_type": "code",
        "outputId": "c6b717d0-0d6f-4925-a519-7f149fa93c3f",
        "colab": {
          "base_uri": "https://localhost:8080/",
          "height": 201
        }
      },
      "source": [
        "data_set = pd.read_csv('/content/drive/My Drive/Timeseries/train_csv.csv',squeeze=True)\n",
        "data_set.head()"
      ],
      "execution_count": 0,
      "outputs": [
        {
          "output_type": "execute_result",
          "data": {
            "text/html": [
              "<div>\n",
              "<style scoped>\n",
              "    .dataframe tbody tr th:only-of-type {\n",
              "        vertical-align: middle;\n",
              "    }\n",
              "\n",
              "    .dataframe tbody tr th {\n",
              "        vertical-align: top;\n",
              "    }\n",
              "\n",
              "    .dataframe thead th {\n",
              "        text-align: right;\n",
              "    }\n",
              "</style>\n",
              "<table border=\"1\" class=\"dataframe\">\n",
              "  <thead>\n",
              "    <tr style=\"text-align: right;\">\n",
              "      <th></th>\n",
              "      <th>id</th>\n",
              "      <th>time</th>\n",
              "      <th>feature</th>\n",
              "    </tr>\n",
              "  </thead>\n",
              "  <tbody>\n",
              "    <tr>\n",
              "      <th>0</th>\n",
              "      <td>0</td>\n",
              "      <td>2019-03-19 00:00:00</td>\n",
              "      <td>237.97</td>\n",
              "    </tr>\n",
              "    <tr>\n",
              "      <th>1</th>\n",
              "      <td>1</td>\n",
              "      <td>2019-03-19 00:00:10</td>\n",
              "      <td>57.93</td>\n",
              "    </tr>\n",
              "    <tr>\n",
              "      <th>2</th>\n",
              "      <td>2</td>\n",
              "      <td>2019-03-19 00:00:20</td>\n",
              "      <td>90.53</td>\n",
              "    </tr>\n",
              "    <tr>\n",
              "      <th>3</th>\n",
              "      <td>3</td>\n",
              "      <td>2019-03-19 00:00:30</td>\n",
              "      <td>260.75</td>\n",
              "    </tr>\n",
              "    <tr>\n",
              "      <th>4</th>\n",
              "      <td>4</td>\n",
              "      <td>2019-03-19 00:00:40</td>\n",
              "      <td>49.70</td>\n",
              "    </tr>\n",
              "  </tbody>\n",
              "</table>\n",
              "</div>"
            ],
            "text/plain": [
              "   id                 time  feature\n",
              "0   0  2019-03-19 00:00:00   237.97\n",
              "1   1  2019-03-19 00:00:10    57.93\n",
              "2   2  2019-03-19 00:00:20    90.53\n",
              "3   3  2019-03-19 00:00:30   260.75\n",
              "4   4  2019-03-19 00:00:40    49.70"
            ]
          },
          "metadata": {
            "tags": []
          },
          "execution_count": 51
        }
      ]
    },
    {
      "cell_type": "code",
      "metadata": {
        "id": "iHpfmy9Z20aP",
        "colab_type": "code",
        "outputId": "f51f4cfa-b490-4c5c-c185-b85622f7a7c3",
        "colab": {
          "base_uri": "https://localhost:8080/",
          "height": 102
        }
      },
      "source": [
        "data = data_set.filter(['feature'])\n",
        "data = data.values\n",
        "data[:5]"
      ],
      "execution_count": 0,
      "outputs": [
        {
          "output_type": "execute_result",
          "data": {
            "text/plain": [
              "array([[237.97],\n",
              "       [ 57.93],\n",
              "       [ 90.53],\n",
              "       [260.75],\n",
              "       [ 49.7 ]])"
            ]
          },
          "metadata": {
            "tags": []
          },
          "execution_count": 52
        }
      ]
    },
    {
      "cell_type": "code",
      "metadata": {
        "id": "8VUZ0eqq3vMp",
        "colab_type": "code",
        "outputId": "2a55c3b1-52ac-4855-ca13-3aea2739b1a7",
        "colab": {
          "base_uri": "https://localhost:8080/",
          "height": 102
        }
      },
      "source": [
        "# Normalization\n",
        "scaler = MinMaxScaler(feature_range=(0,1))\n",
        "scaled_data = scaler.fit_transform(data)\n",
        "scaled_data[:5]"
      ],
      "execution_count": 0,
      "outputs": [
        {
          "output_type": "execute_result",
          "data": {
            "text/plain": [
              "array([[0.48311625],\n",
              "       [0.08156392],\n",
              "       [0.15427335],\n",
              "       [0.53392363],\n",
              "       [0.06320814]])"
            ]
          },
          "metadata": {
            "tags": []
          },
          "execution_count": 53
        }
      ]
    },
    {
      "cell_type": "code",
      "metadata": {
        "id": "wXBBNdDj4HzR",
        "colab_type": "code",
        "outputId": "7b45ceef-de8f-4785-df6e-33e874c8937a",
        "colab": {
          "base_uri": "https://localhost:8080/",
          "height": 305
        }
      },
      "source": [
        "train_data = scaled_data[0:64,:]\n",
        "x_train =[]\n",
        "y_train=[]\n",
        "\n",
        "for i in range(20,len(train_data)):\n",
        "  x_train.append(train_data[i-20:i,0])\n",
        "  y_train.append(train_data[i,0])\n",
        "\n",
        "print(x_train[0:5])\n",
        "print(y_train[:5])"
      ],
      "execution_count": 0,
      "outputs": [
        {
          "output_type": "stream",
          "text": [
            "[array([0.48311625, 0.08156392, 0.15427335, 0.53392363, 0.06320814,\n",
            "       0.62610402, 0.29193059, 0.04422785, 0.02955215, 0.41152199,\n",
            "       0.32311089, 0.11684807, 0.58234454, 0.22604603, 0.02382014,\n",
            "       0.04320189, 0.07516282, 0.05584798, 0.07382461, 0.01920332]), array([0.08156392, 0.15427335, 0.53392363, 0.06320814, 0.62610402,\n",
            "       0.29193059, 0.04422785, 0.02955215, 0.41152199, 0.32311089,\n",
            "       0.11684807, 0.58234454, 0.22604603, 0.02382014, 0.04320189,\n",
            "       0.07516282, 0.05584798, 0.07382461, 0.01920332, 0.04253279]), array([0.15427335, 0.53392363, 0.06320814, 0.62610402, 0.29193059,\n",
            "       0.04422785, 0.02955215, 0.41152199, 0.32311089, 0.11684807,\n",
            "       0.58234454, 0.22604603, 0.02382014, 0.04320189, 0.07516282,\n",
            "       0.05584798, 0.07382461, 0.01920332, 0.04253279, 0.        ]), array([0.53392363, 0.06320814, 0.62610402, 0.29193059, 0.04422785,\n",
            "       0.02955215, 0.41152199, 0.32311089, 0.11684807, 0.58234454,\n",
            "       0.22604603, 0.02382014, 0.04320189, 0.07516282, 0.05584798,\n",
            "       0.07382461, 0.01920332, 0.04253279, 0.        , 0.05627175]), array([0.06320814, 0.62610402, 0.29193059, 0.04422785, 0.02955215,\n",
            "       0.41152199, 0.32311089, 0.11684807, 0.58234454, 0.22604603,\n",
            "       0.02382014, 0.04320189, 0.07516282, 0.05584798, 0.07382461,\n",
            "       0.01920332, 0.04253279, 0.        , 0.05627175, 0.04851013])]\n",
            "[0.0425327861539834, 0.0, 0.05627174591845839, 0.04851012579177447, 0.07641181193683647]\n"
          ],
          "name": "stdout"
        }
      ]
    },
    {
      "cell_type": "code",
      "metadata": {
        "id": "q_2CfAYE5gVM",
        "colab_type": "code",
        "colab": {}
      },
      "source": [
        "# converting to numpy array\n",
        "x_train,y_train = np.array(x_train),np.array(y_train)"
      ],
      "execution_count": 0,
      "outputs": []
    },
    {
      "cell_type": "code",
      "metadata": {
        "id": "-49fdN3H7LuL",
        "colab_type": "code",
        "outputId": "198db9f8-87d3-48f1-b772-11baabf0d155",
        "colab": {
          "base_uri": "https://localhost:8080/",
          "height": 34
        }
      },
      "source": [
        "x_train = np.reshape(x_train,(x_train.shape[0],x_train.shape[1],1))\n",
        "x_train.shape"
      ],
      "execution_count": 0,
      "outputs": [
        {
          "output_type": "execute_result",
          "data": {
            "text/plain": [
              "(44, 20, 1)"
            ]
          },
          "metadata": {
            "tags": []
          },
          "execution_count": 56
        }
      ]
    },
    {
      "cell_type": "code",
      "metadata": {
        "id": "iBdVFuPi7Vhb",
        "colab_type": "code",
        "colab": {}
      },
      "source": [
        "model = Sequential()\n",
        "model.add(LSTM(1,input_shape=(x_train.shape[1],1)))\n",
        "model.add(Dense(1))"
      ],
      "execution_count": 0,
      "outputs": []
    },
    {
      "cell_type": "code",
      "metadata": {
        "id": "J0Ra2fJd9P-d",
        "colab_type": "code",
        "colab": {}
      },
      "source": [
        "model.compile(optimizer='adam',loss='mean_squared_error')"
      ],
      "execution_count": 0,
      "outputs": []
    },
    {
      "cell_type": "code",
      "metadata": {
        "id": "NEUpzQyy9YaI",
        "colab_type": "code",
        "outputId": "ca022505-dec8-4f97-f341-cd05b341aad0",
        "colab": {
          "base_uri": "https://localhost:8080/",
          "height": 372
        }
      },
      "source": [
        "model.fit(x_train,y_train,batch_size=1,epochs=10)"
      ],
      "execution_count": 0,
      "outputs": [
        {
          "output_type": "stream",
          "text": [
            "Epoch 1/10\n",
            "44/44 [==============================] - 1s 18ms/step - loss: 0.1208\n",
            "Epoch 2/10\n",
            "44/44 [==============================] - 0s 6ms/step - loss: 0.0821\n",
            "Epoch 3/10\n",
            "44/44 [==============================] - 0s 6ms/step - loss: 0.0615\n",
            "Epoch 4/10\n",
            "44/44 [==============================] - 0s 6ms/step - loss: 0.0481\n",
            "Epoch 5/10\n",
            "44/44 [==============================] - 0s 6ms/step - loss: 0.0405\n",
            "Epoch 6/10\n",
            "44/44 [==============================] - 0s 6ms/step - loss: 0.0375\n",
            "Epoch 7/10\n",
            "44/44 [==============================] - 0s 6ms/step - loss: 0.0358\n",
            "Epoch 8/10\n",
            "44/44 [==============================] - 0s 6ms/step - loss: 0.0355\n",
            "Epoch 9/10\n",
            "44/44 [==============================] - 0s 6ms/step - loss: 0.0351\n",
            "Epoch 10/10\n",
            "44/44 [==============================] - 0s 6ms/step - loss: 0.0349\n"
          ],
          "name": "stdout"
        },
        {
          "output_type": "execute_result",
          "data": {
            "text/plain": [
              "<keras.callbacks.callbacks.History at 0x7fc523416898>"
            ]
          },
          "metadata": {
            "tags": []
          },
          "execution_count": 59
        }
      ]
    },
    {
      "cell_type": "code",
      "metadata": {
        "id": "Lsu__hqN9jV_",
        "colab_type": "code",
        "colab": {}
      },
      "source": [
        "test_data= scaled_data[64-20:,:]\n",
        "\n",
        "x_test=[]\n",
        "y_test=[]\n",
        "y_test = data[64:,:]\n",
        "for i in range(20,len(test_data)):\n",
        "  x_test.append(test_data[i-20:i,0])\n",
        "x_test = np.array(x_test)"
      ],
      "execution_count": 0,
      "outputs": []
    },
    {
      "cell_type": "code",
      "metadata": {
        "id": "gUl6Xs6yAys1",
        "colab_type": "code",
        "outputId": "47c708c7-2fe5-4cd5-8371-58414b4b398d",
        "colab": {
          "base_uri": "https://localhost:8080/",
          "height": 34
        }
      },
      "source": [
        "x_test= np.reshape(x_test,(x_test.shape[0],x_test.shape[1],1))\n",
        "x_test.shape"
      ],
      "execution_count": 0,
      "outputs": [
        {
          "output_type": "execute_result",
          "data": {
            "text/plain": [
              "(16, 20, 1)"
            ]
          },
          "metadata": {
            "tags": []
          },
          "execution_count": 61
        }
      ]
    },
    {
      "cell_type": "code",
      "metadata": {
        "id": "6VXr51TLBDeh",
        "colab_type": "code",
        "outputId": "544c2646-f61a-4946-a6fe-befb45b7dbfe",
        "colab": {
          "base_uri": "https://localhost:8080/",
          "height": 288
        }
      },
      "source": [
        "predictions= model.predict(x_test)\n",
        "prediction= scaler.inverse_transform(predictions)\n",
        "prediction"
      ],
      "execution_count": 0,
      "outputs": [
        {
          "output_type": "execute_result",
          "data": {
            "text/plain": [
              "array([[143.63058],\n",
              "       [143.29965],\n",
              "       [143.38457],\n",
              "       [143.30516],\n",
              "       [143.11516],\n",
              "       [143.04292],\n",
              "       [142.92567],\n",
              "       [142.94725],\n",
              "       [142.93547],\n",
              "       [143.11044],\n",
              "       [143.05   ],\n",
              "       [143.33046],\n",
              "       [142.3941 ],\n",
              "       [141.42064],\n",
              "       [140.9958 ],\n",
              "       [141.52434]], dtype=float32)"
            ]
          },
          "metadata": {
            "tags": []
          },
          "execution_count": 62
        }
      ]
    },
    {
      "cell_type": "code",
      "metadata": {
        "id": "s5sabjJOCYzq",
        "colab_type": "code",
        "outputId": "d352d05f-4a73-4b2a-f7d9-d19501306400",
        "colab": {
          "base_uri": "https://localhost:8080/",
          "height": 34
        }
      },
      "source": [
        "rmse = np.sqrt(mean_squared_error(prediction,y_test))\n",
        "rmse"
      ],
      "execution_count": 0,
      "outputs": [
        {
          "output_type": "execute_result",
          "data": {
            "text/plain": [
              "127.29424574587307"
            ]
          },
          "metadata": {
            "tags": []
          },
          "execution_count": 63
        }
      ]
    },
    {
      "cell_type": "code",
      "metadata": {
        "id": "aKBqrD0qLYOg",
        "colab_type": "code",
        "colab": {}
      },
      "source": [
        ""
      ],
      "execution_count": 0,
      "outputs": []
    }
  ]
}